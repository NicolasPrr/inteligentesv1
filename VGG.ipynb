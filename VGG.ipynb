{
 "cells": [
  {
   "cell_type": "code",
   "execution_count": 88,
   "metadata": {},
   "outputs": [],
   "source": [
    "import keras\n",
    "import numpy as np\n",
    "from keras.models import Sequential\n",
    "from keras.layers import Conv2D, MaxPooling2D\n",
    "from keras.layers import Activation, Dropout, Flatten, Dense\n",
    "from keras import backend as K\n",
    "from keras.preprocessing.image import ImageDataGenerator, array_to_img, img_to_array, load_img\n",
    "import datetime\n",
    "import os\n"
   ]
  },
  {
   "cell_type": "code",
   "execution_count": 89,
   "metadata": {},
   "outputs": [],
   "source": [
    "def model(input_shape):\n",
    "    width, height = input_shape[0], input_shape[1] \n",
    "    if K.image_data_format() == 'channels_first':\n",
    "        input_shape = (3, width, height)\n",
    "    else:\n",
    "        input_shape = (width, height, 3)\n",
    "\n",
    "    network =Sequential()\n",
    "    print(input_shape)\n",
    "    #first layer\n",
    "    network.add(Conv2D( 64,\n",
    "                               3, \n",
    "                               padding='same', \n",
    "                               input_shape = input_shape,\n",
    "                               activation='relu'\n",
    "                             ))\n",
    "    network.add(Conv2D( 64,\n",
    "                               3, \n",
    "                               padding='same', \n",
    "                               input_shape = input_shape,\n",
    "                               activation='relu'\n",
    "                             ))\n",
    "    network.add(MaxPooling2D(pool_size=2, strides=(2,2)))\n",
    "    \n",
    "    #Second layer\n",
    "    network.add(Conv2D( 128,\n",
    "                               3,  \n",
    "                               activation='relu'\n",
    "                             ))\n",
    "    network.add(MaxPooling2D(pool_size=2, strides=(2,2)))\n",
    "    \n",
    "    #third layer\n",
    "    network.add(Conv2D( 256,\n",
    "                               3,  \n",
    "                               activation='relu'\n",
    "                             ))\n",
    "    \n",
    "    network.add(MaxPooling2D(pool_size=2, strides=(4,4)))\n",
    "\n",
    "    #third layer\n",
    "    network.add(Conv2D( 512,\n",
    "                               3,  \n",
    "                               activation='relu'\n",
    "                             ))\n",
    "    \n",
    "    network.add(MaxPooling2D(pool_size=2, strides=(2,2)))\n",
    "\n",
    "\n",
    "    \n",
    "    \n",
    "    network.add(Flatten())\n",
    "    network.add(Dense(4096))\n",
    "    network.add(Activation('relu'))\n",
    "    network.add(Dense(3))\n",
    "    network.add(Activation('relu'))\n",
    "    network.add(Activation('softmax'))\n",
    "\n",
    "\n",
    "\n",
    "    \n",
    "    return network\n"
   ]
  },
  {
   "cell_type": "code",
   "execution_count": 98,
   "metadata": {},
   "outputs": [
    {
     "name": "stdout",
     "output_type": "stream",
     "text": [
      "(224, 224, 3)\n"
     ]
    }
   ],
   "source": [
    "VGG = model((224,224))\n",
    "from keras import optimizers\n",
    "\n",
    "#Primer modelo\n",
    "#cnn.compile(loss='mean_squared_error', optimizer='Adam', metrics = ['accuracy'])\n",
    "#CategoricalCrossentropy\n",
    "VGG.compile(loss='categorical_crossentropy', optimizer= 'adam', metrics = ['accuracy'])"
   ]
  },
  {
   "cell_type": "code",
   "execution_count": 99,
   "metadata": {},
   "outputs": [],
   "source": [
    "train_dir = 'data/train'\n",
    "dev_dir = 'data/dev'\n",
    "test_dir = ' data/test'\n",
    "batch_size = 16\n",
    "nb_train_samples = 2000\n",
    "epochs = 10\n",
    "steps = nb_train_samples // batch_size\n",
    "width, height = 306, 306\n",
    "nb_validation_samples = 300\n",
    "\n",
    "r= -4*np.random.rand()\n",
    "learning_rate = pow(10,r)\n",
    "validation_steps = nb_validation_samples // batch_size"
   ]
  },
  {
   "cell_type": "code",
   "execution_count": 105,
   "metadata": {},
   "outputs": [
    {
     "name": "stdout",
     "output_type": "stream",
     "text": [
      "Found 7629 images belonging to 3 classes.\n",
      "Found 300 images belonging to 3 classes.\n"
     ]
    }
   ],
   "source": [
    "train_datagen = ImageDataGenerator(\n",
    "    rescale=1. / 255,\n",
    "    horizontal_flip=True,\n",
    "    vertical_flip=True,\n",
    "    brightness_range=[0.2,0.8],\n",
    "    rotation_range=20,\n",
    ")\n",
    "\n",
    "test_datagen = ImageDataGenerator(\n",
    "    rescale=1. / 255,\n",
    ")\n",
    "train_generator = train_datagen.flow_from_directory(\n",
    "    train_dir,\n",
    "    target_size=(224, 224),\n",
    "    batch_size=batch_size,\n",
    "    class_mode='categorical'\n",
    ")\n",
    "validation_generator = test_datagen.flow_from_directory(\n",
    "    dev_dir,\n",
    "    target_size=(224, 224),\n",
    "    batch_size=batch_size,\n",
    "    class_mode='categorical')\n",
    "    "
   ]
  },
  {
   "cell_type": "code",
   "execution_count": 106,
   "metadata": {},
   "outputs": [
    {
     "name": "stdout",
     "output_type": "stream",
     "text": [
      "Epoch 1/10\n",
      "125/125 [==============================] - 28s 224ms/step - loss: 1.0986 - accuracy: 0.2720 - mean_squared_error: 0.2222 - val_loss: 1.0986 - val_accuracy: 0.3368 - val_mean_squared_error: 0.2222\n",
      "Epoch 2/10\n",
      "125/125 [==============================] - 27s 216ms/step - loss: 1.0986 - accuracy: 0.2584 - mean_squared_error: 0.2222 - val_loss: 1.0986 - val_accuracy: 0.3380 - val_mean_squared_error: 0.2222\n",
      "Epoch 3/10\n",
      "125/125 [==============================] - 27s 216ms/step - loss: 1.0986 - accuracy: 0.2540 - mean_squared_error: 0.2222 - val_loss: 1.0986 - val_accuracy: 0.3169 - val_mean_squared_error: 0.2222\n",
      "Epoch 4/10\n",
      "125/125 [==============================] - 28s 220ms/step - loss: 1.0986 - accuracy: 0.2520 - mean_squared_error: 0.2222 - val_loss: 1.0986 - val_accuracy: 0.3380 - val_mean_squared_error: 0.2222\n",
      "Epoch 5/10\n",
      "125/125 [==============================] - 26s 210ms/step - loss: 1.0986 - accuracy: 0.2520 - mean_squared_error: 0.2222 - val_loss: 1.0986 - val_accuracy: 0.3415 - val_mean_squared_error: 0.2222\n",
      "Epoch 6/10\n",
      "125/125 [==============================] - 28s 221ms/step - loss: 1.0986 - accuracy: 0.2590 - mean_squared_error: 0.2222 - val_loss: 1.0986 - val_accuracy: 0.3310 - val_mean_squared_error: 0.2222\n",
      "Epoch 7/10\n",
      "125/125 [==============================] - 27s 213ms/step - loss: 1.0986 - accuracy: 0.2659 - mean_squared_error: 0.2222 - val_loss: 1.0986 - val_accuracy: 0.3239 - val_mean_squared_error: 0.2222\n",
      "Epoch 8/10\n",
      "125/125 [==============================] - 28s 225ms/step - loss: 1.0986 - accuracy: 0.2765 - mean_squared_error: 0.2222 - val_loss: 1.0986 - val_accuracy: 0.3134 - val_mean_squared_error: 0.2222\n",
      "Epoch 9/10\n",
      "125/125 [==============================] - 27s 218ms/step - loss: 1.0986 - accuracy: 0.2615 - mean_squared_error: 0.2222 - val_loss: 1.0986 - val_accuracy: 0.3592 - val_mean_squared_error: 0.2222\n",
      "Epoch 10/10\n",
      "125/125 [==============================] - 27s 218ms/step - loss: 1.0986 - accuracy: 0.2564 - mean_squared_error: 0.2222 - val_loss: 1.0986 - val_accuracy: 0.3380 - val_mean_squared_error: 0.2222\n"
     ]
    }
   ],
   "source": [
    "\n",
    "VGG.compile(loss='categorical_crossentropy', optimizer= new_optimizer, metrics = ['accuracy','mean_squared_error'])\n",
    "history = VGG.fit_generator(\n",
    "        train_generator,\n",
    "        steps_per_epoch=steps,\n",
    "        epochs=epochs,\n",
    "        validation_data=validation_generator,\n",
    "        validation_steps=nb_validation_samples // batch_size,\n",
    "        use_multiprocessing=True,\n",
    "        workers = 4\n",
    "    )\n",
    "dir = 'VGGmodel/'+ str(datetime.datetime.now()) + '/'\n",
    "if os.path.exists(dir) == False:\n",
    "    os.mkdir(dir)\n",
    "    #os.path.exists(dir)\n",
    "#loaded_model.save(dir + 'modelo.h5')\n",
    "#loaded_model.save_weights(dir  +'weights.h')"
   ]
  },
  {
   "cell_type": "code",
   "execution_count": null,
   "metadata": {},
   "outputs": [],
   "source": [
    "history.history['loss']"
   ]
  },
  {
   "cell_type": "code",
   "execution_count": 100,
   "metadata": {},
   "outputs": [
    {
     "data": {
      "image/png": "[encoded data removed]",
      "text/plain": [
       "<Figure size 432x288 with 1 Axes>"
      ]
     },
     "metadata": {
      "needs_background": "light"
     },
     "output_type": "display_data"
    },
    {
     "ename": "NameError",
     "evalue": "name 'plot' is not defined",
     "output_type": "error",
     "traceback": [
      "\u001b[0;31m---------------------------------------------------------------------------\u001b[0m",
      "\u001b[0;31mNameError\u001b[0m                                 Traceback (most recent call last)",
      "\u001b[0;32m<ipython-input-100-93e1a92c7ef2>\u001b[0m in \u001b[0;36m<module>\u001b[0;34m\u001b[0m\n\u001b[1;32m      9\u001b[0m \u001b[0mplt\u001b[0m\u001b[0;34m.\u001b[0m\u001b[0mlegend\u001b[0m\u001b[0;34m(\u001b[0m\u001b[0;34m)\u001b[0m\u001b[0;34m\u001b[0m\u001b[0m\n\u001b[1;32m     10\u001b[0m \u001b[0mplt\u001b[0m\u001b[0;34m.\u001b[0m\u001b[0mshow\u001b[0m\u001b[0;34m(\u001b[0m\u001b[0;34m)\u001b[0m\u001b[0;34m\u001b[0m\u001b[0m\n\u001b[0;32m---> 11\u001b[0;31m \u001b[0mplot\u001b[0m\u001b[0;34m.\u001b[0m\u001b[0msavefig\u001b[0m\u001b[0;34m(\u001b[0m\u001b[0;34m'VGG/images/training_lost.png'\u001b[0m\u001b[0;34m)\u001b[0m\u001b[0;34m\u001b[0m\u001b[0m\n\u001b[0m",
      "\u001b[0;31mNameError\u001b[0m: name 'plot' is not defined"
     ]
    }
   ],
   "source": [
    "import matplotlib.pyplot as plt\n",
    "loss_train = history.history['loss']\n",
    "loss_val = history.history['val_loss']\n",
    "plt.plot(range(0,epochs), loss_train, 'g', label='Training loss')\n",
    "plt.plot(range(0,epochs), loss_val, 'b', label='validation loss')\n",
    "plt.title('Training and Validation loss')\n",
    "plt.xlabel('Epochs')\n",
    "plt.ylabel('Loss')\n",
    "plt.legend()\n",
    "plt.show()\n",
    "plot.savefig('VGG/images/training_lost.png')"
   ]
  },
  {
   "cell_type": "code",
   "execution_count": 87,
   "metadata": {},
   "outputs": [
    {
     "data": {
      "image/png": "[encoded data removed]",
      "text/plain": [
       "<Figure size 432x288 with 1 Axes>"
      ]
     },
     "metadata": {
      "needs_background": "light"
     },
     "output_type": "display_data"
    }
   ],
   "source": [
    "import matplotlib.pyplot as plt\n",
    "loss_train = history.history['accuracy']\n",
    "loss_val = history.history['val_accuracy']\n",
    "plt.plot(range(0,epochs), loss_train, 'g', label='Training loss')\n",
    "plt.plot(range(0,epochs), loss_val, 'b', label='validation loss')\n",
    "plt.title('Training and Validation loss')\n",
    "plt.xlabel('Epochs')\n",
    "plt.ylabel('Loss')\n",
    "plt.legend()\n",
    "plt.show()"
   ]
  },
  {
   "cell_type": "code",
   "execution_count": null,
   "metadata": {},
   "outputs": [],
   "source": []
  }
 ],
 "metadata": {
  "kernelspec": {
   "display_name": "Python 3",
   "language": "python",
   "name": "python3"
  },
  "language_info": {
   "codemirror_mode": {
    "name": "ipython",
    "version": 3
   },
   "file_extension": ".py",
   "mimetype": "text/x-python",
   "name": "python",
   "nbconvert_exporter": "python",
   "pygments_lexer": "ipython3",
   "version": "3.5.3"
  }
 },
 "nbformat": 4,
 "nbformat_minor": 4
}
